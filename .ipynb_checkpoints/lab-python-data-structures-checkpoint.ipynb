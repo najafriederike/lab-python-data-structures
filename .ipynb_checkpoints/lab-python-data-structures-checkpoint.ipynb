{
 "cells": [
  {
   "cell_type": "markdown",
   "metadata": {
    "tags": []
   },
   "source": [
    "# Lab | Data Structures "
   ]
  },
  {
   "cell_type": "markdown",
   "metadata": {},
   "source": [
    "## Exercise: Managing Customer Orders\n",
    "\n",
    "As part of a business venture, you are starting an online store that sells various products. To ensure smooth operations, you need to develop a program that manages customer orders and inventory.\n",
    "\n",
    "Follow the steps below to complete the exercise:\n",
    "\n",
    "1. Define a list called `products` that contains the following items: \"t-shirt\", \"mug\", \"hat\", \"book\", \"keychain\".\n",
    "\n",
    "2. Create an empty dictionary called `inventory`.\n",
    "\n",
    "3. Ask the user to input the quantity of each product available in the inventory. Use the product names from the `products` list as keys in the `inventory` dictionary and assign the respective quantities as values.\n",
    "\n",
    "4. Create an empty set called `customer_orders`.\n",
    "\n",
    "5. Ask the user to input the name of three products that a customer wants to order (from those in the products list, meaning three products out of \"t-shirt\", \"mug\", \"hat\", \"book\" or \"keychain\". Add each product name to the `customer_orders` set.\n",
    "\n",
    "6. Print the products in the `customer_orders` set.\n",
    "\n",
    "7. Calculate the following order statistics:\n",
    "   - Total Products Ordered: The total number of products in the `customer_orders` set.\n",
    "   - Percentage of Products Ordered: The percentage of products ordered compared to the total available products.\n",
    "   \n",
    "   Store these statistics in a tuple called `order_status`.\n",
    "\n",
    "8. Print the order statistics using the following format:\n",
    "   ```\n",
    "   Order Statistics:\n",
    "   Total Products Ordered: <total_products_ordered>\n",
    "   Percentage of Products Ordered: <percentage_ordered>% \n",
    "   ```\n",
    "\n",
    "9. Update the inventory by subtracting 1 from the quantity of each product. Modify the `inventory` dictionary accordingly.\n",
    "\n",
    "10. Print the updated inventory, displaying the quantity of each product on separate lines.\n",
    "\n",
    "Solve the exercise by implementing the steps using the Python concepts of lists, dictionaries, sets, and basic input/output operations. "
   ]
  },
  {
   "cell_type": "code",
   "execution_count": 176,
   "metadata": {},
   "outputs": [
    {
     "data": {
      "text/plain": [
       "['t-shirt', 'mug', 'hat', 'book', 'keychain']"
      ]
     },
     "execution_count": 176,
     "metadata": {},
     "output_type": "execute_result"
    }
   ],
   "source": [
    "#1\n",
    "list = [\"t-shirt\", \"mug\", \"hat\", \"book\", \"keychain\"]\n",
    "list"
   ]
  },
  {
   "cell_type": "code",
   "execution_count": 178,
   "metadata": {},
   "outputs": [],
   "source": [
    "#2\n",
    "inventory = {}"
   ]
  },
  {
   "cell_type": "code",
   "execution_count": 180,
   "metadata": {},
   "outputs": [
    {
     "name": "stdin",
     "output_type": "stream",
     "text": [
      "Please input the quantity of tshirts available in the inventory:  6\n",
      "Please input the quantity of mugs available in the inventory:  8\n",
      "Please input the quantity of hats available in the inventory:  4\n",
      "Please input the quantity of books available in the inventory:  5\n",
      "Please input the quantity of keychains available in the inventory:  3\n"
     ]
    }
   ],
   "source": [
    "#3\n",
    "inventory[\"tshirt\"] = int(input(\"Please input the quantity of tshirts available in the inventory: \"))\n",
    "inventory['mug'] = int(input(\"Please input the quantity of mugs available in the inventory: \"))\n",
    "inventory['hat'] = int(input(\"Please input the quantity of hats available in the inventory: \"))\n",
    "inventory['book'] = int(input(\"Please input the quantity of books available in the inventory: \"))\n",
    "inventory['keychain'] = int(input(\"Please input the quantity of keychains available in the inventory: \"))"
   ]
  },
  {
   "cell_type": "code",
   "execution_count": 186,
   "metadata": {},
   "outputs": [],
   "source": [
    "#4\n",
    "customer_orders = set()"
   ]
  },
  {
   "cell_type": "code",
   "execution_count": 188,
   "metadata": {},
   "outputs": [
    {
     "name": "stdin",
     "output_type": "stream",
     "text": [
      "Please choose three items from the list: t-shirt, mug, hat, book, keychain:  mug\n",
      " hat\n",
      " book\n"
     ]
    }
   ],
   "source": [
    "#5\n",
    "customer_orders.add(input(\"Please choose three items from the list: t-shirt, mug, hat, book, keychain: \"))\n",
    "customer_orders.add(input())\n",
    "customer_orders.add(input())"
   ]
  },
  {
   "cell_type": "code",
   "execution_count": 190,
   "metadata": {},
   "outputs": [
    {
     "name": "stdout",
     "output_type": "stream",
     "text": [
      "{'hat', 'book', 'mug'}\n"
     ]
    }
   ],
   "source": [
    "#6\n",
    "print(customer_orders)"
   ]
  },
  {
   "cell_type": "code",
   "execution_count": 192,
   "metadata": {},
   "outputs": [
    {
     "name": "stdout",
     "output_type": "stream",
     "text": [
      "3\n",
      "26\n",
      "11.54 %\n"
     ]
    }
   ],
   "source": [
    "#7\n",
    "print(len(customer_orders))\n",
    "print(sum(inventory.values()))\n",
    "order_status = round((len(customer_orders) / sum(inventory.values()))*100, 2)\n",
    "print(order_status,\"%\")\n"
   ]
  },
  {
   "cell_type": "code",
   "execution_count": 297,
   "metadata": {},
   "outputs": [
    {
     "name": "stdout",
     "output_type": "stream",
     "text": [
      "Order Statistics:\n",
      "Total Products Ordered:  3\n",
      "Percentage of Products Ordered:  11.54 %\n"
     ]
    }
   ],
   "source": [
    "#8\n",
    "print(\"Order Statistics:\")\n",
    "print(\"Total Products Ordered: \", len(customer_orders))\n",
    "print(\"Percentage of Products Ordered: \", order_status,\"%\")\n"
   ]
  },
  {
   "cell_type": "code",
   "execution_count": 224,
   "metadata": {},
   "outputs": [
    {
     "data": {
      "text/plain": [
       "{'tshirt': 4, 'mug': 7, 'hat': 3, 'book': 4, 'keychain': 2}"
      ]
     },
     "execution_count": 224,
     "metadata": {},
     "output_type": "execute_result"
    }
   ],
   "source": [
    "inventory"
   ]
  },
  {
   "cell_type": "code",
   "execution_count": 291,
   "metadata": {},
   "outputs": [
    {
     "data": {
      "text/plain": [
       "{'tshirt': -2, 'mug': 1, 'hat': -3, 'book': -2, 'keychain': -4}"
      ]
     },
     "execution_count": 291,
     "metadata": {},
     "output_type": "execute_result"
    }
   ],
   "source": [
    "#9\n",
    "inventory['tshirt'] -= 1\n",
    "inventory['mug'] -= 1\n",
    "inventory['hat'] -= 1\n",
    "inventory['book'] -= 1\n",
    "inventory['keychain'] -= 1\n",
    "inventory"
   ]
  },
  {
   "cell_type": "code",
   "execution_count": 293,
   "metadata": {},
   "outputs": [
    {
     "name": "stdout",
     "output_type": "stream",
     "text": [
      "tshirt -2\n",
      "mug 1\n",
      "hat -3\n",
      "book -2\n",
      "keychain -4\n"
     ]
    }
   ],
   "source": [
    "#10\n",
    "for item in inventory:\n",
    "    print(item, inventory[item])"
   ]
  },
  {
   "cell_type": "code",
   "execution_count": 295,
   "metadata": {},
   "outputs": [
    {
     "name": "stdout",
     "output_type": "stream",
     "text": [
      "tshirt: -2\n",
      "mug: 1\n",
      "hat: -3\n",
      "book: -2\n",
      "keychain: -4\n"
     ]
    }
   ],
   "source": [
    "#10 - Alternative\n",
    "print('tshirt:', inventory['tshirt'])\n",
    "print('mug:', inventory['mug'])\n",
    "print('hat:', inventory['hat'])\n",
    "print('book:', inventory['book'])\n",
    "print('keychain:', inventory['keychain'])\n"
   ]
  },
  {
   "cell_type": "code",
   "execution_count": null,
   "metadata": {},
   "outputs": [],
   "source": []
  }
 ],
 "metadata": {
  "kernelspec": {
   "display_name": "Python 3 (ipykernel)",
   "language": "python",
   "name": "python3"
  },
  "language_info": {
   "codemirror_mode": {
    "name": "ipython",
    "version": 3
   },
   "file_extension": ".py",
   "mimetype": "text/x-python",
   "name": "python",
   "nbconvert_exporter": "python",
   "pygments_lexer": "ipython3",
   "version": "3.12.4"
  }
 },
 "nbformat": 4,
 "nbformat_minor": 4
}
